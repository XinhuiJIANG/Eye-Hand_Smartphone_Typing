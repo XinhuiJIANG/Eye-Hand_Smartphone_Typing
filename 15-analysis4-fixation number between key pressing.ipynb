{
 "cells": [
  {
   "cell_type": "code",
   "execution_count": 17,
   "metadata": {
    "collapsed": true
   },
   "outputs": [],
   "source": [
    "import os\n",
    "import numpy as np\n",
    "import matplotlib.pyplot as plt\n"
   ]
  },
  {
   "cell_type": "code",
   "execution_count": 18,
   "metadata": {
    "collapsed": true
   },
   "outputs": [],
   "source": [
    "def readPickle(filename):\n",
    "    import pickle\n",
    "\n",
    "    # reload a file to a variable\n",
    "    with open(filename, 'rb') as file:\n",
    "        a_dict1 =pickle.load(file)\n",
    "\n",
    "    return a_dict1"
   ]
  },
  {
   "cell_type": "code",
   "execution_count": 19,
   "metadata": {
    "collapsed": true
   },
   "outputs": [],
   "source": [
    "def writePickle(filename,dictionary):\n",
    "    import pickle\n",
    "    # pickle a variable to a file\n",
    "    file = open(filename, 'wb')\n",
    "    pickle.dump(dictionary, file)\n",
    "    file.close()"
   ]
  },
  {
   "cell_type": "code",
   "execution_count": 20,
   "metadata": {
    "collapsed": true
   },
   "outputs": [],
   "source": [
    "dictFix = readPickle('./pkl/eyeMovementData.pkl')\n",
    "#dictFin = readPickle('./pkl/fingerMovementData.pkl')"
   ]
  },
  {
   "cell_type": "code",
   "execution_count": 21,
   "metadata": {},
   "outputs": [
    {
     "name": "stdout",
     "output_type": "stream",
     "text": [
      "dict_keys(['systemtime', 'trialtime', 'key', 'touchx', 'touchy', 'x', 'y', 'xf', 'yf', 'fixnum', 'fixdur', 't', 'IKI', 'errorMessage'])\n"
     ]
    }
   ],
   "source": [
    "print(dictFix['101']['1']['20'].keys())"
   ]
  },
  {
   "cell_type": "code",
   "execution_count": 22,
   "metadata": {},
   "outputs": [
    {
     "name": "stdout",
     "output_type": "stream",
     "text": [
      "29\n",
      "['v', 'o', 'i', 'n', 'k', 'p', ' ', '<', '<', 'o', ' ', 'a', 'u', 't', 't', 'a', 'a', ' ', 'm', 'i', 't', 'e', 'n', 'l', '<', 'k', 'ä', 'ä', 'n']\n",
      "0\n",
      "[]\n"
     ]
    }
   ],
   "source": [
    "print(len(dictFix['101']['1']['22']['key']))\n",
    "print(dictFix['101']['1']['22']['key'])\n",
    "print(len(dictFix['101']['1']['22']['fixdur']))\n",
    "print(dictFix['101']['1']['22']['fixdur'])"
   ]
  },
  {
   "cell_type": "code",
   "execution_count": 35,
   "metadata": {
    "collapsed": true
   },
   "outputs": [],
   "source": [
    "#每个key之前的fixation数量的Histogram\n",
    "def calculateFixNumDurPerKey(block):\n",
    "\n",
    "    numberofFixation = {}\n",
    "    durofFixation = {}\n",
    "\n",
    "    for subject in dictFix.keys():\n",
    "        for sentence in dictFix[subject][block].keys():\n",
    "            if len(dictFix[subject][block][sentence]['fixnum'])==0:\n",
    "                print([subject,block,sentence])\n",
    "            for i in range(len(dictFix[subject][block][sentence]['key'])):\n",
    "                if i!=0 and len(dictFix[subject][block][sentence]['fixnum'])!=0:\n",
    "                    key = dictFix[subject][block][sentence]['key'][i]\n",
    "                    if key not in [' ','<','enter']:\n",
    "                        if key not in numberofFixation.keys():\n",
    "                            numberofFixation[key] = []\n",
    "                        if key not in durofFixation.keys():\n",
    "                            durofFixation[key] = []\n",
    "                            \n",
    "                        fixcount = 0\n",
    "                        fixdurall = 0\n",
    "\n",
    "                        for j in range(len(dictFix[subject][block][sentence]['fixnum'][i])):\n",
    "                            #按某key之前的fixation数，fixation总dur\n",
    "                            fixX = dictFix[subject][block][sentence]['x'][i][j]\n",
    "                            fixY = dictFix[subject][block][sentence]['y'][i][j]\n",
    "                            #键盘4个角落的坐标\n",
    "                            #(498,1840)(1940,1840)\n",
    "                            #(498,2760)(1940,2760)\n",
    "                            eyeoffset = 318\n",
    "                            #tan2*40cm\n",
    "                            count = 0\n",
    "                            if 498-eyeoffset<fixX<1940+eyeoffset and 1840-eyeoffset<fixY<2760+eyeoffset:\n",
    "                                \n",
    "                                if count==0:\n",
    "                                    thisfixnum = dictFix[subject][block][sentence]['fixnum'][i][j]\n",
    "                                    fixcount = fixcount + 1\n",
    "                                    fixdurall = fixdurall + float(dictFix[subject][block][sentence]['fixdur'][i][j])\n",
    "                                else:\n",
    "                                    if dictFix[subject][block][sentence]['fixnum'][i][j]!=thisfixnum:\n",
    "                                        thisfixnum = dictFix[subject][block][sentence]['fixnum'][i][j]\n",
    "                                        fixcount = fixcount + 1\n",
    "                                        fixdurall = fixdurall + float(dictFix[subject][block][sentence]['fixdur'][i][j])\n",
    "                                count = count + 1\n",
    "                        if fixcount!=0:\n",
    "                            #不考虑没有捕捉到fixation的情况\n",
    "                            numberofFixation[key].append(fixcount)\n",
    "                            durofFixation[key].append(fixdurall)\n",
    "                        \n",
    "    return [numberofFixation,durofFixation]\n"
   ]
  },
  {
   "cell_type": "code",
   "execution_count": 24,
   "metadata": {
    "collapsed": true
   },
   "outputs": [],
   "source": [
    "def drawTimeHistogram(yList,title):\n",
    "    plt.hist(yList, bins='auto')  # arguments are passed to np.histogram\n",
    "    plt.title(title)\n",
    "    plt.savefig(title+\".png\")\n",
    "    plt.show()"
   ]
  },
  {
   "cell_type": "code",
   "execution_count": 25,
   "metadata": {
    "collapsed": true
   },
   "outputs": [],
   "source": [
    "def rejectOutliers(dataY):\n",
    "    u = np.mean(dataY)\n",
    "    s = np.std(dataY)\n",
    "    dataY1 = []\n",
    "    rejected = []\n",
    "    for i in range(len(dataY)):\n",
    "        if (u - 2 * s) < dataY[i] < (u + 2 * s):\n",
    "            dataY1.append(dataY[i])\n",
    "        else:\n",
    "            rejected.append(dataY[i])   \n",
    "    if len(dataY)!=len(dataY1):\n",
    "        print('outlier rejected:')\n",
    "        print(rejected)\n",
    "    return dataY1"
   ]
  },
  {
   "cell_type": "code",
   "execution_count": 36,
   "metadata": {},
   "outputs": [
    {
     "name": "stdout",
     "output_type": "stream",
     "text": [
      "['101', '1', '22']\n",
      "['104', '1', '38']\n",
      "['104', '1', '47']\n",
      "['105', '1', '32']\n",
      "['105', '1', '16']\n",
      "['106', '1', '69']\n",
      "['106', '1', '54']\n",
      "['106', '1', '3']\n",
      "['107', '1', '52']\n",
      "['107', '1', '43']\n",
      "['107', '1', '44']\n",
      "['107', '1', '2']\n",
      "['108', '1', '66']\n",
      "['108', '1', '58']\n",
      "['108', '1', '32']\n",
      "['109', '1', '49']\n",
      "['110', '1', '46']\n",
      "['110', '1', '56']\n",
      "['111', '1', '57']\n",
      "['111', '1', '25']\n",
      "['111', '1', '27']\n",
      "['112', '1', '43']\n",
      "['112', '1', '50']\n",
      "['113', '1', '38']\n",
      "['114', '1', '75']\n",
      "['114', '1', '59']\n",
      "['115', '1', '65']\n",
      "['115', '1', '13']\n",
      "['116', '1', '47']\n",
      "['117', '1', '31']\n",
      "['117', '1', '43']\n",
      "['118', '1', '24']\n",
      "['118', '1', '7']\n",
      "['118', '1', '25']\n",
      "['120', '1', '21']\n",
      "['120', '1', '55']\n",
      "['121', '1', '69']\n",
      "['121', '1', '60']\n",
      "['122', '1', '25']\n",
      "['122', '1', '4']\n",
      "['123', '1', '49']\n",
      "['123', '1', '75']\n",
      "['123', '1', '62']\n",
      "['123', '1', '39']\n",
      "['124', '1', '60']\n",
      "['125', '1', '25']\n",
      "['125', '1', '30']\n",
      "['126', '1', '72']\n",
      "['126', '1', '38']\n",
      "['127', '1', '26']\n",
      "['127', '1', '360']\n",
      "['128', '1', '34']\n",
      "['129', '1', '12']\n",
      "['130', '1', '68']\n",
      "['130', '1', '41']\n",
      "['131', '1', '22']\n",
      "['132', '1', '74']\n",
      "['132', '1', '28']\n",
      "['132', '1', '42']\n",
      "['132', '1', '37']\n",
      "['132', '1', '59']\n",
      "['132', '1', '47']\n",
      "['133', '1', '23']\n",
      "['133', '1', '15']\n",
      "outlier rejected:\n",
      "[26, 20, 25, 247, 19, 43, 21, 21, 19, 23, 21, 20, 19, 22, 184, 28, 29, 26, 21, 22, 21, 24, 23, 20, 19, 36, 19, 22, 19, 21, 28, 25, 20, 21, 28, 22, 19, 38, 20, 20, 26, 27, 19, 24, 192, 183, 19, 21, 22, 85, 30, 22, 26, 31, 23, 22, 24, 19, 25, 25, 24, 23, 24, 37, 20, 25, 24, 25, 26, 19, 22, 26, 22, 23, 43, 20, 19, 19, 24, 20, 25, 21, 23, 24, 20, 24, 24, 19, 22, 23, 31, 19, 29, 24, 22, 22, 24, 20, 23, 29, 23, 19]\n",
      "Histogram for fix number per key pressing:\n"
     ]
    },
    {
     "data": {
      "image/png": "[encoded data removed]",
      "text/plain": [
       "<matplotlib.figure.Figure at 0x130b6c88>"
      ]
     },
     "metadata": {},
     "output_type": "display_data"
    },
    {
     "name": "stdout",
     "output_type": "stream",
     "text": [
      "Histogram for fix duration per key pressing:\n",
      "outlier rejected:\n",
      "[6489.367999999999, 13845.344000000005, 6406.063, 7903.596000000003, 8181.809999999998, 5939.120999999999, 5990.696, 6326.580000000001, 7086.492000000001, 6733.622000000001, 8035.174000000003, 9515.671999999999, 11879.868, 7117.138000000001, 8186.472000000001, 9299.550000000001, 6572.170000000002, 7612.8240000000005, 14491.812000000005, 5906.372, 39942.95200000004, 6636.791000000001, 10197.173999999997, 7374.3499999999985, 7312.41, 6182.715, 8120.271999999999, 8192.484000000002, 6788.72, 10016.882, 6340.432000000001, 12129.206999999995, 7333.488, 7151.6100000000015, 5891.647999999999, 9315.964000000002, 5839.912000000001, 6739.191, 11018.355999999998, 7436.992999999999, 6988.047000000002, 7673.053999999999, 8194.481999999998, 7838.232000000001, 6838.356000000001, 6495.902, 9276.735000000002, 8986.769999999999, 6421.263999999999, 5823.733999999999, 5833.686, 6439.626, 8982.557999999997, 7055.568, 5967.116999999999, 7820.079999999999, 67029.70800000001, 6788.424, 6255.608, 14061.766999999996, 6052.296000000003, 18969.602, 6402.935999999998, 6195.285999999999, 26206.088999999996, 5923.456, 7642.2710000000025, 12438.911000000002, 15629.704000000005, 6589.854, 11647.614000000003, 5990.246999999999, 6891.637999999997, 6494.29, 6622.388000000001, 6556.049999999997, 7272.976999999997, 6822.150000000001, 5990.120999999999, 6488.185000000002, 6533.051999999998, 21979.184000000005, 8242.194, 10989.592, 13736.990000000002, 9151.461, 5788.030000000002, 6521.199999999999, 5859.72, 9521.487, 6589.044, 6379.471, 5922.176, 19231.786000000004, 9735.946, 7587.696, 7685.175999999996, 6464.386000000001, 6488.962999999999, 8303.785, 12332.540999999997, 7805.105000000001, 13821.821000000005, 7987.064999999997, 5899.48, 6854.076000000001, 6755.637000000001, 8902.721000000001, 6571.580999999997, 7737.480000000002, 5856.917, 12580.148000000003, 7330.583000000002, 6751.969999999999, 9200.178, 6107.782999999999, 10731.241000000002, 5871.71, 9516.942000000001, 10581.629000000004, 7587.568, 56367.458000000006, 5939.871, 7038.72, 9317.296, 6990.288000000001, 9053.2, 37001.82399999997, 14624.82, 7321.400000000001, 7547.875000000001, 13896.282999999998, 5989.636000000002, 9850.256, 8011.563999999998, 6817.672, 6449.872000000001, 7778.248, 6762.53, 7992.661, 6205.997000000002, 6472.263999999997, 7169.823, 15839.731000000005, 9850.368, 7739.252, 6404.936999999999, 11734.961000000001, 7379.407, 6289.893, 8597.644000000002, 8018.024999999999, 9884.402000000002, 5853.614000000002, 6606.079, 9251.261999999993, 7055.887999999999, 6655.608, 11082.262999999995, 5839.797, 6041.5160000000005, 15524.096000000001, 6544.543000000001, 7154.529999999999, 8893.941, 11202.174, 6888.216, 6988.450000000002, 6256.063999999999, 19231.786000000004, 6106.753000000001, 14167.264, 6572.308, 8003.658000000001, 6437.592000000001, 10164.504, 16803.261000000002, 9184.288, 7804.228000000001, 8601.531, 15401.519999999997, 6289.023999999999, 6421.4879999999985, 6788.2840000000015, 9104.979999999998, 9684.300000000001, 7949.205, 7105.237999999999, 5823.733999999999, 8488.574999999997, 6772.897999999999, 7381.010000000001, 7182.752, 9334.182, 5856.323, 7937.514, 6589.854, 8236.789, 6505.262000000001, 7637.085000000003, 12812.767000000003, 20665.088999999996, 7038.72, 6406.316, 5966.0239999999985, 6656.048000000001, 11699.856, 9885.446999999998, 16089.507999999998, 5833.215000000001, 8619.179999999997, 9085.958, 7279.713, 10291.330000000002, 8750.528999999999, 11202.174, 6921.198000000003, 7533.720999999999, 9800.005, 6822.150000000001, 5978.708999999995, 8134.260000000002, 8294.91, 6290.067, 7248.329999999998, 5856.64, 6690.509000000001, 11695.387000000004, 7787.717999999999, 8154.607999999997, 5961.6630000000005, 6633.571999999999, 7354.553, 5900.054999999999, 10198.822000000004, 6763.884999999997, 10981.169999999996, 6589.745999999999, 5930.4400000000005, 7587.696, 6323.400000000001, 6888.659999999999, 10237.374, 6722.371, 9158.895, 6075.739999999999]\n"
     ]
    },
    {
     "data": {
      "image/png": "[encoded data removed]",
      "text/plain": [
       "<matplotlib.figure.Figure at 0x13148390>"
      ]
     },
     "metadata": {},
     "output_type": "display_data"
    }
   ],
   "source": [
    "fInfo = calculateFixNumDurPerKey('1')\n",
    "nf = fInfo[0]\n",
    "df = fInfo[1]\n",
    "\n",
    "allKeyFixNumberList = []\n",
    "allKeyFixDurList = []\n",
    "temp = []\n",
    "for key in nf.keys():\n",
    "    for item1 in nf[key]:\n",
    "        temp.append(item1)\n",
    "    for item2 in df[key]:\n",
    "        allKeyFixDurList.append(item2)\n",
    "allKeyFixNumberList = rejectOutliers(temp)\n",
    "        \n",
    "print('Histogram for fix number per key pressing:')\n",
    "drawTimeHistogram(allKeyFixNumberList,'Fix number per key pressing - 1-hand')\n",
    "\n",
    "print('Histogram for fix duration per key pressing:')\n",
    "drawTimeHistogram(rejectOutliers(allKeyFixDurList),'Fix duration per key pressing - 1-hand')"
   ]
  },
  {
   "cell_type": "code",
   "execution_count": 37,
   "metadata": {},
   "outputs": [
    {
     "name": "stdout",
     "output_type": "stream",
     "text": [
      "['101', '2', '49']\n",
      "['101', '2', '41']\n",
      "['101', '2', '62']\n",
      "['101', '2', '44']\n",
      "['101', '2', '66']\n",
      "['104', '2', '72']\n",
      "['104', '2', '360']\n",
      "['104', '2', '43']\n",
      "['105', '2', '59']\n",
      "['106', '2', '21']\n",
      "['106', '2', '18']\n",
      "['107', '2', '25']\n",
      "['107', '2', '41']\n",
      "['108', '2', '6']\n",
      "['109', '2', '1']\n",
      "['110', '2', '39']\n",
      "['111', '2', '66']\n",
      "['112', '2', '72']\n",
      "['112', '2', '17']\n",
      "['112', '2', '63']\n",
      "['113', '2', '2']\n",
      "['114', '2', '13']\n",
      "['115', '2', '36']\n",
      "['116', '2', '42']\n",
      "['117', '2', '36']\n",
      "['117', '2', '69']\n",
      "['118', '2', '12']\n",
      "['118', '2', '31']\n",
      "['118', '2', '15']\n",
      "['120', '2', '9']\n",
      "['121', '2', '29']\n",
      "['121', '2', '73']\n",
      "['122', '2', '44']\n",
      "['123', '2', '54']\n",
      "['123', '2', '17']\n",
      "['124', '2', '73']\n",
      "['125', '2', '38']\n",
      "['126', '2', '4']\n",
      "['126', '2', '68']\n",
      "['126', '2', '37']\n",
      "['126', '2', '33']\n",
      "['126', '2', '36']\n",
      "['126', '2', '64']\n",
      "['127', '2', '19']\n",
      "['128', '2', '66']\n",
      "['129', '2', '4']\n",
      "['130', '2', '42']\n",
      "['130', '2', '1']\n",
      "['131', '2', '34']\n",
      "['132', '2', '18']\n",
      "['132', '2', '53']\n",
      "['132', '2', '63']\n",
      "['132', '2', '20']\n",
      "['132', '2', '52']\n",
      "['132', '2', '2']\n",
      "['132', '2', '7']\n",
      "['132', '2', '4']\n",
      "['133', '2', '61']\n",
      "['133', '2', '41']\n",
      "outlier rejected:\n",
      "[22, 37, 21, 36, 21, 20, 20, 20, 22, 22, 22, 20, 21, 22, 24, 39, 20, 35, 28, 20, 25, 21, 21, 24, 30, 24, 28, 45, 68, 28, 20, 20, 22, 22, 20, 20, 20, 21, 28, 23, 20, 20, 27, 21, 20, 20, 61, 20, 22, 22, 24, 23, 22, 20, 21, 22, 21, 22, 24, 22, 47, 20, 28, 20, 24, 21, 20, 20, 31, 22, 26, 22, 23, 20, 24, 23, 21, 46, 20, 21, 20, 20, 21, 23, 21, 24, 37, 20, 25, 24, 22, 20, 28, 22, 36, 23, 20, 20, 27, 20, 20, 20, 21, 27, 22, 22, 22, 21, 22, 20, 24, 20, 20, 23, 22, 136, 21, 22, 23, 29, 22, 22, 21, 21, 24, 20, 21, 61, 21, 22, 21, 30, 21, 21, 21, 30, 25, 25, 23, 20, 45, 23, 21, 28, 21, 25, 20, 21, 24, 30, 20, 27, 24, 26, 25, 22, 21, 20, 20, 21, 20, 20, 30, 28, 22, 21, 20, 21, 21, 22, 21, 27, 20, 30, 24, 28, 22, 32, 21, 21, 30, 21, 21, 22, 21, 23, 21, 22, 23, 22, 21, 23, 21, 23, 30, 26, 20, 28, 20, 21, 25, 23, 25, 23, 20, 20, 21, 23, 30, 22, 25, 22, 22, 20, 27, 26, 20, 20, 20, 21, 24, 27, 21, 26, 26, 20, 25, 21, 29, 23, 20, 20, 21, 21, 28, 22, 20, 31, 20, 27, 26, 21, 21, 24, 26, 20, 21, 24, 21, 20, 20, 22]\n",
      "Histogram for fix number per key pressing:\n"
     ]
    },
    {
     "data": {
      "image/png": "[encoded data removed]",
      "text/plain": [
       "<matplotlib.figure.Figure at 0x1324a400>"
      ]
     },
     "metadata": {},
     "output_type": "display_data"
    },
    {
     "name": "stdout",
     "output_type": "stream",
     "text": [
      "Histogram for fix duration per key pressing:\n",
      "outlier rejected:\n",
      "[12978.191999999997, 8170.418999999997, 8683.298999999999, 10049.055, 7531.380000000002, 8056.037000000003, 8270.613999999996, 9235.988000000001, 8234.279999999999, 7661.526, 8169.784, 8352.032999999998, 8476.655000000002, 8757.837999999998, 9671.219999999998, 8169.360999999999, 8056.018000000001, 7704.135999999999, 7903.9259999999995, 9481.090999999997, 7686.571, 8622.331999999999, 25497.052999999993, 13926.207000000002, 10782.839999999998, 11119.810000000003, 12802.222999999996, 9948.19, 11481.79, 10646.904999999999, 17907.721999999998, 14525.498000000005, 8896.419000000002, 7829.974, 18302.911000000004, 9087.518, 16126.099, 8796.054, 7504.496999999999, 8801.481000000002, 12385.015999999998, 8001.843000000001, 9151.99, 9311.419999999998, 7788.195999999998, 7621.270999999999, 8103.3719999999985, 10382.423999999999, 8319.47, 9550.412, 7454.1600000000035, 11226.511999999999, 9157.385000000002, 17038.640000000007, 9645.23, 8619.293, 7803.667999999998, 10499.610999999997, 31326.779000000006, 9720.435999999998, 9251.049, 8418.376999999999, 9250.360000000002, 9651.157999999998, 14024.93999999999, 7687.097000000002, 11425.701000000005, 10299.29, 7803.716999999998, 9061.928000000004, 17006.542, 7636.646, 10484.278000000002, 14608.809, 9899.995, 9701.417, 10712.166, 7507.582000000002, 7840.073999999999, 8024.266999999998, 9233.49, 8766.668, 10779.646999999997, 7954.092000000001, 7680.287999999998, 7680.316000000001, 12628.627000000002, 8353.384, 9725.605, 10433.093, 8618.306, 11332.515, 11599.036, 10717.308999999996, 7520.265999999998, 8844.993, 8652.787, 8469.904000000002, 8420.292000000001, 8485.9, 10400.291, 7487.2530000000015, 8385.496, 13076.890999999998, 8053.975000000001, 13409.393000000002, 15807.181000000004, 9606.9, 10299.932, 12396.25599999999, 28303.23700000001, 7788.056999999999, 8801.875999999998, 8669.846000000005, 7782.49, 7535.65, 7504.2660000000005, 11837.289999999999, 9185.432, 8485.586, 10630.664999999997, 7439.510999999999, 12147.53, 11711.917, 9877.33, 8549.752, 13752.004999999997, 8364.853, 7694.621000000001, 9317.739000000001, 9387.776, 8784.83, 7987.3589999999995, 12282.608000000004, 27592.818000000003, 8019.520999999999, 10016.079999999996, 9234.979999999998, 8934.145999999997, 7986.555000000002, 9417.744, 8902.787999999999, 8253.283, 10314.532, 11414.246, 11446.937999999995, 8290.302, 8087.718, 9318.717999999999, 7903.8690000000015, 7902.932000000001, 12752.542000000009, 8808.026, 8419.498000000003, 13433.642, 11090.849999999997, 13257.829999999996, 7918.187999999998, 8798.981999999998, 7913.887000000002, 8457.192, 11478.967999999995, 7887.925, 10615.868999999999, 11481.256, 11583.279000000002, 10382.58, 9152.704000000002, 10466.18, 10249.932, 7670.457999999999, 13411.917999999998, 8412.289, 7579.508999999999, 14357.330999999996, 7786.932, 12728.880000000001, 8186.300000000001, 7786.232999999998, 7692.36, 8680.707, 7862.216, 9113.524000000001, 7571.371000000003, 9551.024000000001, 11181.702, 11362.300000000003, 8902.187, 7937.2080000000005, 13345.025000000005, 7687.097000000002, 8566.333999999997, 7803.401000000001, 7631.321000000001, 8976.814999999999, 7854.729000000003, 11512.106999999998, 7795.541000000001, 11181.884, 9899.995, 7770.754999999999, 9006.714, 10016.451000000003, 8937.087999999998, 9434.133000000002, 9563.425, 9645.893999999995, 8013.471000000001, 8271.084, 49759.253, 8902.052, 12578.087999999996, 9256.407999999996, 8734.859999999997, 8869.106999999998, 15112.605999999998, 12579.049999999994, 7815.846000000001, 7770.649999999998, 12747.325999999997, 8602.682, 15368.391999999994, 14110.644000000006, 18357.00599999999, 8734.614000000001, 10815.845, 7686.416, 8214.199, 8114.8640000000005, 14204.747999999998, 9096.036000000002, 8650.145999999999, 7735.746, 9731.31, 7651.270999999999, 11804.095, 11049.111999999997, 9664.416999999998, 7653.448000000001, 8369.336000000003, 10166.467999999999, 10781.288, 8036.398999999999, 11663.444, 9883.615, 7478.297999999999, 9916.49, 7770.313, 12856.581999999999, 18519.102, 10224.142, 8286.103000000001, 8619.954000000002, 12911.655000000004, 7755.118999999999, 8186.5920000000015, 8519.768, 14059.707999999997, 10649.168000000001, 8430.132, 9337.899999999998, 9669.005, 9747.216999999997, 10115.305, 9669.175, 9002.449, 9157.020999999997, 10950.027000000002, 9031.164, 10432.921999999999, 8648.355, 8635.704, 8070.728000000003, 8601.04, 12920.428000000002, 12468.627, 8355.402000000004, 9600.765000000001, 14543.145999999997, 7770.257000000001, 7920.710000000002, 8080.370000000004, 10336.125000000002, 7706.375000000001, 10782.242999999999, 7598.931999999999, 8049.864999999996, 7652.9299999999985, 7826.104000000002, 9831.86, 11195.366999999998, 7637.2469999999985, 8385.496, 8785.320000000002, 8635.916000000005, 9653.946000000002, 9578.920999999998, 16223.881000000008, 17442.144000000004, 10174.584, 9242.468, 8601.648, 8314.192999999997, 7885.967000000001, 9584.779999999999, 7455.232999999999, 7637.655000000002, 8237.005000000001, 8038.756999999999, 7668.047000000002, 7637.229, 8503.270999999999, 13828.262, 10387.428, 7916.679000000003, 11314.28, 8353.478, 8869.249, 8111.033000000003, 10268.483, 8685.45, 7920.14, 8252.664999999999, 11900.069999999998, 8052.902000000002, 9530.386, 10367.729000000001, 7671.188000000002, 8550.791000000001, 8315.640000000001, 8283.902000000002, 8022.3640000000005, 10317.4, 9800.164, 7637.345000000001, 14394.205, 9451.992, 12175.673999999997, 8852.564000000002, 9033.547000000002, 10378.728000000001, 7698.988000000002, 10045.682999999999, 8646.587000000001, 9134.524000000003, 10665.370999999996, 8784.876000000002, 9816.730000000003, 7986.376000000002, 8651.619000000002, 8036.398999999999, 10980.734999999995, 8785.535999999998, 9436.206000000006, 8819.33, 11180.008, 8653.023999999996, 8236.17, 11083.350999999999, 7487.007999999999, 11394.619999999997, 7612.6439999999975, 11647.411000000002, 9129.471000000001, 8009.076000000001, 7521.9969999999985, 8604.409, 14658.999000000002, 7718.253000000001, 22614.217999999986, 14226.425000000001, 8237.086, 10920.824, 19690.180000000004, 9034.674, 12287.622000000007, 9002.482000000002, 9415.605, 7648.321999999999, 8112.669999999998, 10727.611, 8918.256000000003, 9075.662, 13090.238000000001, 10516.978999999998, 13178.626, 9601.131, 7854.505000000003, 7487.23, 7774.321000000002, 11636.416000000003, 11418.633, 12957.048, 7454.144, 7720.400000000001, 8934.051, 12429.137, 10167.473000000002, 7749.519999999999, 10534.226999999999, 9534.396999999999, 9240.467000000002, 15723.834999999994, 16373.758000000002, 9151.614, 13413.7, 8028.283000000001, 9762.007, 8053.556000000001, 7454.048999999997, 9064.932999999999, 8850.898000000001, 8830.799999999997, 12364.250000000004, 7920.575000000001, 7918.386000000001, 7454.104, 8086.923000000001]\n"
     ]
    },
    {
     "data": {
      "image/png": "[encoded data removed]",
      "text/plain": [
       "<matplotlib.figure.Figure at 0x132a7898>"
      ]
     },
     "metadata": {},
     "output_type": "display_data"
    }
   ],
   "source": [
    "fInfo = calculateFixNumDurPerKey('2')\n",
    "nf = fInfo[0]\n",
    "df = fInfo[1]\n",
    "\n",
    "allKeyFixNumberList = []\n",
    "allKeyFixDurList = []\n",
    "temp = []\n",
    "for key in nf.keys():\n",
    "    for item1 in nf[key]:\n",
    "        temp.append(item1)\n",
    "    for item2 in df[key]:\n",
    "        allKeyFixDurList.append(item2)\n",
    "allKeyFixNumberList = rejectOutliers(temp)\n",
    "print('Histogram for fix number per key pressing:')\n",
    "drawTimeHistogram(allKeyFixNumberList,'Fix number per key pressing - 2-hand')\n",
    "\n",
    "print('Histogram for fix duration per key pressing:')\n",
    "drawTimeHistogram(rejectOutliers(allKeyFixDurList),'Fix duration per key pressing - 2-hand')"
   ]
  },
  {
   "cell_type": "code",
   "execution_count": null,
   "metadata": {
    "collapsed": true
   },
   "outputs": [],
   "source": []
  },
  {
   "cell_type": "code",
   "execution_count": null,
   "metadata": {
    "collapsed": true
   },
   "outputs": [],
   "source": []
  }
 ],
 "metadata": {
  "kernelspec": {
   "display_name": "Python 3",
   "language": "python",
   "name": "python3"
  },
  "language_info": {
   "codemirror_mode": {
    "name": "ipython",
    "version": 3
   },
   "file_extension": ".py",
   "mimetype": "text/x-python",
   "name": "python",
   "nbconvert_exporter": "python",
   "pygments_lexer": "ipython3",
   "version": "3.6.3"
  }
 },
 "nbformat": 4,
 "nbformat_minor": 2
}
