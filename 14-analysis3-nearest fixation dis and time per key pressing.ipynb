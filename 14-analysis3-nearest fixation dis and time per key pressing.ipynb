{
 "cells": [
  {
   "cell_type": "code",
   "execution_count": 1,
   "metadata": {
    "collapsed": true
   },
   "outputs": [],
   "source": [
    "# nearest fixation dis and time per key pressing\n",
    "\n",
    "import os\n",
    "import numpy as np\n",
    "import matplotlib.pyplot as plt"
   ]
  },
  {
   "cell_type": "code",
   "execution_count": 2,
   "metadata": {
    "collapsed": true
   },
   "outputs": [],
   "source": [
    "def readPickle(filename):\n",
    "    import pickle\n",
    "\n",
    "    # reload a file to a variable\n",
    "    with open(filename, 'rb') as file:\n",
    "        a_dict1 =pickle.load(file)\n",
    "\n",
    "    return a_dict1"
   ]
  },
  {
   "cell_type": "code",
   "execution_count": 3,
   "metadata": {
    "collapsed": true
   },
   "outputs": [],
   "source": [
    "def writePickle(filename,dictionary):\n",
    "    import pickle\n",
    "    # pickle a variable to a file\n",
    "    file = open(filename, 'wb')\n",
    "    pickle.dump(dictionary, file)\n",
    "    file.close()"
   ]
  },
  {
   "cell_type": "code",
   "execution_count": 4,
   "metadata": {
    "collapsed": true
   },
   "outputs": [],
   "source": [
    "def rejectOutliers(dataX, dataY, dataKey):\n",
    "    u = np.mean(dataY)\n",
    "    s = np.std(dataY)\n",
    "    print([u,s])\n",
    "    dataX1 = []\n",
    "    dataY1 = []\n",
    "    dataKey1 = []\n",
    "    \n",
    "    rejected = []\n",
    "    for i in range(len(dataY)):\n",
    "        if (u - 2 * s) < dataY[i] < (u + 2 * s):\n",
    "            dataX1.append(dataX[i])\n",
    "            dataY1.append(dataY[i])\n",
    "            dataKey1.append(dataKey[i])\n",
    "        else:\n",
    "            rejected.append(dataY[i])   \n",
    "    if len(dataY)!=len(dataY1):\n",
    "        print('outlier rejected:')\n",
    "        print(rejected)\n",
    "    return [dataX1,dataY1,dataKey1]"
   ]
  },
  {
   "cell_type": "code",
   "execution_count": 5,
   "metadata": {
    "collapsed": true
   },
   "outputs": [],
   "source": [
    "dictFix = readPickle('./pkl/eyeMovementData.pkl')\n",
    "#dictFin = readPickle('./pkl/fingerMovementData.pkl')"
   ]
  },
  {
   "cell_type": "code",
   "execution_count": 6,
   "metadata": {
    "collapsed": true
   },
   "outputs": [],
   "source": [
    "def KeyToXY(key):\n",
    "    keys_ = ['q','w','e','r','t','y','u','i','o','p','å','a','s','d','f','g','h','j','k','l','ö','ä','z'\n",
    "            ,'x','c','v','b','n','m','<',' ','enter']\n",
    "    xs = [566, 697, 828, 959, 1090, 1221, 1352, 1483, 1614, 1745, 1876, 566, 697, 828, 959\n",
    "         , 1090, 1221, 1352, 1483, 1614, 1745, 1876, 828, 959, 1090, 1221, 1352, 1483, 1614\n",
    "         , 1810, 1193, 1737]\n",
    "    ys = [1955, 1955, 1955, 1955, 1955, 1955, 1955, 1955, 1955, 1955, 1955, 2185, 2185\n",
    "         , 2185, 2185, 2185, 2185, 2185, 2185, 2185, 2185, 2185, 2415, 2415, 2415, 2415\n",
    "         , 2415, 2415, 2415, 2415, 2645, 2645]\n",
    "\n",
    "    if key not in keys_:\n",
    "        return []\n",
    "    else:\n",
    "        p = keys_.index(key)\n",
    "        return [xs[p], ys[p]]"
   ]
  },
  {
   "cell_type": "code",
   "execution_count": 7,
   "metadata": {},
   "outputs": [
    {
     "name": "stdout",
     "output_type": "stream",
     "text": [
      "dict_keys(['systemtime', 'trialtime', 'key', 'touchx', 'touchy', 'x', 'y', 'xf', 'yf', 'fixnum', 'fixdur', 't', 'IKI', 'errorMessage'])\n"
     ]
    }
   ],
   "source": [
    "dictFix = readPickle('./pkl/eyeMovementData.pkl')\n",
    "print(dictFix['101']['1']['20'].keys())"
   ]
  },
  {
   "cell_type": "code",
   "execution_count": 21,
   "metadata": {
    "collapsed": true
   },
   "outputs": [],
   "source": [
    "#计算点击key之前之后最近的fixation与key之间的距离，以及出现时间\n",
    "\n",
    "block = '1'\n",
    "\n",
    "nearestDisList = []\n",
    "nearestDisTimeList = []\n",
    "keyList = []\n",
    "\n",
    "for subject in dictFix.keys():\n",
    "    for sentence in dictFix[subject][block].keys():\n",
    "        for i in range(len(dictFix[subject][block][sentence]['key'])):\n",
    "            if i!=0 and i!=(len(dictFix[subject][block][sentence]['key'])-1):\n",
    "                key = dictFix[subject][block][sentence]['key'][i]\n",
    "                if key not in [' ','<','enter']:\n",
    "                    keyX, KeyY = KeyToXY(key)\n",
    "                    nearestDis = 100000\n",
    "                    if len(dictFix[subject][block][sentence]['x'])!=0:\n",
    "                        \n",
    "                        for j1 in range(len(dictFix[subject][block][sentence]['x'][i])):\n",
    "                            fixX = dictFix[subject][block][sentence]['x'][i][j1]\n",
    "                            fixY = dictFix[subject][block][sentence]['y'][i][j1]\n",
    "                            dis = np.sqrt((fixX-keyX)*(fixX-keyX)+(fixY-KeyY)*(fixY-KeyY))\n",
    "                            if dis<nearestDis:\n",
    "                                nearestDis = dis\n",
    "                                nearestDisTime =  dictFix[subject][block][sentence]['t'][i][j1] - dictFix[subject][block][sentence]['trialtime'][i]\n",
    "                        for j2 in range(len(dictFix[subject][block][sentence]['x'][i+1])):\n",
    "                            fixX = dictFix[subject][block][sentence]['x'][i+1][j2]\n",
    "                            fixY = dictFix[subject][block][sentence]['y'][i+1][j2]\n",
    "                            dis = np.sqrt((fixX-keyX)*(fixX-keyX)+(fixY-KeyY)*(fixY-KeyY))\n",
    "                            if dis<nearestDis:\n",
    "                                nearestDis = dis\n",
    "                                nearestDisTime = dictFix[subject][block][sentence]['t'][i+1][j2] - dictFix[subject][block][sentence]['trialtime'][i]\n",
    "                    if nearestDis!=100000:\n",
    "                        nearestDisList.append(nearestDis)\n",
    "                        nearestDisTimeList.append(nearestDisTime)\n",
    "                        keyList.append(key)                    \n",
    "                    "
   ]
  },
  {
   "cell_type": "code",
   "execution_count": 22,
   "metadata": {
    "scrolled": false
   },
   "outputs": [
    {
     "name": "stdout",
     "output_type": "stream",
     "text": [
      "[-14.978910007833925, 276.76896726447774]\n",
      "outlier rejected:\n",
      "[986.0, 677.6670000000004, -1243.0, 712.6669999999999, -790.0, -806.3330000000005, 700.3330000000001, 622.3329999999996, 834.6670000000004, 583.0, 682.0, 559.3330000000001, 575.0, 622.0, -808.6669999999999, 614.3329999999996, 915.0, 601.0, -847.6669999999999, -643.0, -624.0, 803.6669999999995, -652.0, -3313.0, -624.6669999999999, 599.3330000000001, -7769.0, 598.3330000000001, 637.6670000000004, 578.0, 646.3329999999996, -1132.0, 863.3330000000005, 1006.0, 716.6669999999995, 550.0, 819.3330000000001, 606.0, -1819.333, -578.6669999999999, -737.0, -699.6669999999999, -746.0, 784.6670000000004, 596.3329999999996, -592.6670000000004, -617.6670000000004, 729.6670000000004, 550.6670000000004, 15532.333, -2947.0, 571.3329999999996, 602.0, 548.3330000000005, -1348.667, 613.6669999999995, 1838.0, 700.3330000000005, 608.6670000000004, 581.0, 583.3330000000005, 679.6670000000004, 567.6670000000004, 659.3330000000005, 584.6670000000004, 576.6669999999999, 606.6670000000004, 578.3330000000001, 557.0, -668.3330000000005, 606.0, -862.3330000000001, 1060.333, -681.0, 873.0, -703.6669999999999, 650.3330000000001, 662.0, 1101.0, -652.667, -759.3330000000005, -772.6669999999999, -3085.667, -863.333, 611.0, -961.0, 609.3329999999996, -946.3329999999996, 598.3329999999996, 631.0, 926.6669999999999, 550.3329999999996, 708.0, 621.3329999999996, -571.6669999999995, 677.3329999999996, 1152.0, 557.6669999999999, -570.667, 584.6670000000004, 620.0, -661.0, -581.0, 916.3330000000001, -1093.667, -7934.3330000000005, -928.6669999999995, -597.0, 661.6670000000013, -1340.0, -663.3330000000005, 850.6669999999995, -1140.6669999999995, -590.3330000000005, -772.0, -636.6669999999999, 567.6670000000004, -683.6669999999995, 636.6670000000004, 735.6669999999995, 561.3330000000005, 615.6670000000013, 585.3330000000005, -1104.0, -626.6669999999995, 599.3329999999987, -586.0, 613.3329999999987, 548.0, -1147.0, 544.3329999999987, 573.0, 724.3329999999996, 802.3329999999996, -1013.3330000000001, -1065.667, 952.3330000000005, 604.0, 710.6669999999995, 1049.333, -650.3329999999987, 692.3329999999987, -642.3330000000001, 552.6669999999999, -694.3330000000005, 575.0, 705.6669999999995, -692.3329999999996, 854.0, 868.0, 1881.0, 861.0, -614.6669999999999, 838.6670000000004, 539.6669999999999, -578.6670000000004, 700.3329999999987, -658.3329999999996, 757.0, -637.6669999999995, 1044.667, 860.0, 883.0, -669.3330000000001, 639.6669999999999, 607.3330000000005, 815.3329999999996, -912.6670000000004, 839.3330000000001, 818.0, 623.3330000000001, 748.0, 659.6669999999995, -570.0, 636.6669999999999, -667.0, -574.6669999999995, 618.0, 562.3329999999996, 613.6670000000004, 549.6670000000004, 560.0, -605.3330000000005, -1416.667, 591.3330000000005, 614.3330000000001, 653.6669999999995]\n"
     ]
    }
   ],
   "source": [
    "#通过nearestDisTimeList去掉 outlier和其对应的nearestDisList，keyList元素\n",
    "nearestDisList1,nearestDisTimeList1,keyList1 = rejectOutliers(nearestDisList,nearestDisTimeList,keyList)"
   ]
  },
  {
   "cell_type": "code",
   "execution_count": 16,
   "metadata": {
    "collapsed": true
   },
   "outputs": [],
   "source": [
    "def drawTimeHistogram(timeList,title):\n",
    "    plt.hist(timeList, bins='auto')  # arguments are passed to np.histogram\n",
    "    plt.title(title)\n",
    "    plt.savefig(title+\".png\")\n",
    "    plt.show()"
   ]
  },
  {
   "cell_type": "code",
   "execution_count": 17,
   "metadata": {},
   "outputs": [
    {
     "name": "stdout",
     "output_type": "stream",
     "text": [
      "Histogram without outlier for time difference:\n"
     ]
    },
    {
     "data": {
      "image/png": "[encoded data removed]",
      "text/plain": [
       "<matplotlib.figure.Figure at 0x86f0ef0>"
      ]
     },
     "metadata": {},
     "output_type": "display_data"
    }
   ],
   "source": [
    "#print('Histogram with outlier for time difference:')\n",
    "#drawTimeHistogram(nearestDisTimeList,'Time difference from nearest fixation to the key-pressing time')\n",
    "print('Histogram without outlier for time difference:')\n",
    "drawTimeHistogram(nearestDisTimeList1,'Time from nearest fixation to key-pressing time - 2 Hand')"
   ]
  },
  {
   "cell_type": "code",
   "execution_count": 23,
   "metadata": {
    "collapsed": true
   },
   "outputs": [],
   "source": [
    "#画最近fixation平均距离key中心的距离的heatmap\n",
    "\n",
    "allkeyList = ['q','w','e','r','t','y','u','i','o','p','å','a','s','d','f','g','h','j','k','l','ö','ä','z'\n",
    "            ,'x','c','v','b','n','m','<',' ']\n",
    "posList = []\n",
    "#每次点击key的最近fixation都存进去\n",
    "disListforKeys = {}\n",
    "#对于每个key，所有最近fixation的mean\n",
    "dislist = []\n",
    "\n",
    "for i in range(len(allkeyList)):\n",
    "    key = allkeyList[i]\n",
    "    posList.append(KeyToXY(key))\n",
    "    disListforKeys[key] = []\n",
    "    for j in range(len(nearestDisList)):\n",
    "        #nearestDisList[j]=100000是一个默认值，如果当前位置没有计算出数据，就填100000\n",
    "        #所以在实际计算的过程中需要跳过100000的情况\n",
    "        if keyList[j]==key and nearestDisList[j]!=100000:\n",
    "            #最近fixation的距离\n",
    "            disListforKeys[key].append(nearestDisList[j])\n",
    "for item in keyList:\n",
    "    #如果当前dis的数据量大于30，则画进图里\n",
    "    if len(disListforKeys[item])>30:\n",
    "        dislist.append(np.mean(disListforKeys[item]))\n",
    "    else:\n",
    "        dislist.append(100000)\n",
    "\n",
    "#计算每个mean dis占最大mean dis的比例（画heatmap的时候确定颜色用）\n",
    "maxdis = 0\n",
    "for dis in dislist:\n",
    "    if dis!=100000 and dis>maxdis:\n",
    "        maxdis = dis\n",
    "disPercentage = []\n",
    "for item in dislist:\n",
    "    disPercentage.append(item/maxdis)"
   ]
  },
  {
   "cell_type": "code",
   "execution_count": 24,
   "metadata": {
    "collapsed": true
   },
   "outputs": [],
   "source": [
    "# draw heatmap for nearest fixation distance\n",
    "\n",
    "def drawFixRate(title, posList, keyList, rateList, dislist):\n",
    "    \n",
    "    from PIL import Image, ImageDraw, ImageFont\n",
    "    import matplotlib.pyplot as plt\n",
    "\n",
    "    image = Image.open('back.png')\n",
    "    draw = ImageDraw.Draw(image)\n",
    "    for index in range(len(keyList)):\n",
    "        if dislist[index]!=100000:\n",
    "            if keyList[index]!=' ' and keyList[index]!='<':\n",
    "                #key width=131px height=230px\n",
    "                x1 = int(posList[index][0]-(131/2))\n",
    "                y1 = int(posList[index][1]-(230/2))\n",
    "                x2 = int(posList[index][0]+(131/2))\n",
    "                y2 = int(posList[index][1]+(230/2))\n",
    "\n",
    "                draw.rectangle((x1,y1,x2,y2), fill=(int((1-rateList[index])*255), 0, 0), outline=None)\n",
    "                font1 = ImageFont.truetype(\"arial.ttf\", 80)\n",
    "                font2 = ImageFont.truetype(\"arial.ttf\", 40)\n",
    "                draw.text((x1+45,y1+50), keyList[index],  fill=(255, 255, 255), font=font1)\n",
    "                draw.text((x1+35,y1+150), str(int(dislist[index])),  fill=(255, 255, 255), font=font2)\n",
    "\n",
    "            elif keyList[index]=='<':\n",
    "                #key width=262px height=230px\n",
    "                x1 = int(posList[index][0]-(262/2))\n",
    "                y1 = int(posList[index][1]-(230/2))\n",
    "                x2 = int(posList[index][0]+(262/2))\n",
    "                y2 = int(posList[index][1]+(230/2))\n",
    "\n",
    "                draw.rectangle((x1,y1,x2,y2), fill=(int((1-rateList[index])*255), 0, 0), outline=None)\n",
    "                font1 = ImageFont.truetype(\"arial.ttf\", 80)\n",
    "                font2 = ImageFont.truetype(\"arial.ttf\", 40)\n",
    "                draw.text((x1+100,y1+50), keyList[index],  fill=(255, 255, 255), font=font1)\n",
    "                draw.text((x1+95,y1+150), str(int(dislist[index])),  fill=(255, 255, 255), font=font2)\n",
    "\n",
    "            elif keyList[index]==' ':\n",
    "                #key width=655px height=230px\n",
    "                x1 = int(posList[index][0]-(655/2))\n",
    "                y1 = int(posList[index][1]-(230/2))\n",
    "                x2 = int(posList[index][0]+(655/2))\n",
    "                y2 = int(posList[index][1]+(230/2))\n",
    "\n",
    "                draw.rectangle((x1,y1,x2,y2), fill=(int((1-rateList[index])*255), 0, 0), outline=None)\n",
    "                font1 = ImageFont.truetype(\"arial.ttf\", 80)\n",
    "                font2 = ImageFont.truetype(\"arial.ttf\", 40)\n",
    "                draw.text((x1+350,y1+50), keyList[index],  fill=(255, 255, 255), font=font1)\n",
    "                draw.text((x1+310,y1+150), str(int(dislist[index])),  fill=(255, 255, 255), font=font2)\n",
    "            \n",
    "    image.save(title+ \" - 2 Hand.png\")\n",
    "    #image.show()"
   ]
  },
  {
   "cell_type": "code",
   "execution_count": 25,
   "metadata": {
    "collapsed": true
   },
   "outputs": [],
   "source": [
    "drawFixRate('Nearest fixation distance', posList, allkeyList, disPercentage,dislist)"
   ]
  },
  {
   "cell_type": "code",
   "execution_count": null,
   "metadata": {
    "collapsed": true
   },
   "outputs": [],
   "source": []
  }
 ],
 "metadata": {
  "kernelspec": {
   "display_name": "Python 3",
   "language": "python",
   "name": "python3"
  },
  "language_info": {
   "codemirror_mode": {
    "name": "ipython",
    "version": 3
   },
   "file_extension": ".py",
   "mimetype": "text/x-python",
   "name": "python",
   "nbconvert_exporter": "python",
   "pygments_lexer": "ipython3",
   "version": "3.6.3"
  }
 },
 "nbformat": 4,
 "nbformat_minor": 2
}
