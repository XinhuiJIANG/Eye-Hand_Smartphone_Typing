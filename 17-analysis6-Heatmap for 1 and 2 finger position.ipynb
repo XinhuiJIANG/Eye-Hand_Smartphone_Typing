{
 "cells": [
  {
   "cell_type": "code",
   "execution_count": 1,
   "metadata": {},
   "outputs": [
    {
     "ename": "NameError",
     "evalue": "name 'setosa' is not defined",
     "output_type": "error",
     "traceback": [
      "\u001b[1;31m---------------------------------------------------------------------------\u001b[0m",
      "\u001b[1;31mNameError\u001b[0m                                 Traceback (most recent call last)",
      "\u001b[1;32m<ipython-input-1-a7f6eceae178>\u001b[0m in \u001b[0;36m<module>\u001b[1;34m()\u001b[0m\n\u001b[0;32m      1\u001b[0m \u001b[1;31m#画图的输入数据格式\u001b[0m\u001b[1;33m\u001b[0m\u001b[1;33m\u001b[0m\u001b[0m\n\u001b[1;32m----> 2\u001b[1;33m \u001b[0mprint\u001b[0m\u001b[1;33m(\u001b[0m\u001b[0mtype\u001b[0m\u001b[1;33m(\u001b[0m\u001b[0msetosa\u001b[0m\u001b[1;33m.\u001b[0m\u001b[0msepal_width\u001b[0m\u001b[1;33m)\u001b[0m\u001b[1;33m)\u001b[0m\u001b[1;33m\u001b[0m\u001b[0m\n\u001b[0m",
      "\u001b[1;31mNameError\u001b[0m: name 'setosa' is not defined"
     ]
    }
   ],
   "source": [
    "#画图的输入数据格式\n",
    "print(type(setosa.sepal_width))"
   ]
  },
  {
   "cell_type": "code",
   "execution_count": null,
   "metadata": {
    "collapsed": true
   },
   "outputs": [],
   "source": []
  },
  {
   "cell_type": "code",
   "execution_count": 2,
   "metadata": {
    "collapsed": true
   },
   "outputs": [],
   "source": [
    "import os\n",
    "import numpy as np\n",
    "\n",
    "import seaborn as sns\n",
    "import matplotlib.pyplot as plt\n",
    "\n",
    "from pandas import Series, DataFrame"
   ]
  },
  {
   "cell_type": "code",
   "execution_count": 3,
   "metadata": {
    "collapsed": true
   },
   "outputs": [],
   "source": [
    "def readPickle(filename):\n",
    "    import pickle\n",
    "\n",
    "    # reload a file to a variable\n",
    "    with open(filename, 'rb') as file:\n",
    "        a_dict1 =pickle.load(file)\n",
    "\n",
    "    return a_dict1"
   ]
  },
  {
   "cell_type": "code",
   "execution_count": 4,
   "metadata": {
    "collapsed": true
   },
   "outputs": [],
   "source": [
    "dictFin = readPickle('./pkl/fingerMovementData.pkl')"
   ]
  },
  {
   "cell_type": "code",
   "execution_count": 7,
   "metadata": {
    "collapsed": true
   },
   "outputs": [],
   "source": [
    "def drawHeatmap2(x1list,y1list,x2list,y2list,title,subject):\n",
    "    import seaborn as sns\n",
    "    import matplotlib.pyplot as plt\n",
    "    import matplotlib.image as mpimg # mpimg 用于读取图片\n",
    "    import numpy as np\n",
    "    from PIL import Image\n",
    "    \n",
    "    #entropy for subjects from code No.18\n",
    "    entropyList = {'101': 0.09388104837140317, '104': 0.08644422981008111, '105': 0.42048795886069934, '106': 0.0884247813843311, '107': 0.09938949718126859, '108': 0.42955193929863067, '109': 0.11400136418066398, '110': 0.07159482862787381, '111': 0.37703020402020215, '112': 0.4333661032000567, '113': 0.8477623736482218, '114': 0.16569842346905406, '115': 0.14508176383352211, '116': 0.20389987044909935, '117': 0.08216878428683182, '118': 0.9348212963010704, '120': 0.14687520514691, '121': 0.13562228329981185, '122': 0.3589432975860881, '123': 0.49966130482929144, '124': 0.13163021243532746, '125': 0.23166463540820387, '126': 0.09894783916999074, '127': 0.20887761166270788, '128': 0.2104299522888162, '129': 0.18321448487328662, '130': 0.2882418915477877, '131': 0.46375519144411587, '132': 0.09227883279382529, '133': 0.391177491398259}\n",
    "\n",
    "    \n",
    "    lena = Image.open('back.png')\n",
    "    nplena=np.array(lena)\n",
    "\n",
    "    #sns.set(style=\"None\")\n",
    "    \n",
    "    # Set up the figure\n",
    "    f, ax = plt.subplots(figsize=(10,15))\n",
    "    plt.axis('off')\n",
    " \n",
    "    # Add labels to the plot\n",
    "    red = sns.color_palette(\"Reds\")[-2]\n",
    "    blue = sns.color_palette(\"Blues\")[-2]\n",
    "    ax.text(600, 1800, \"Left hand\", size=16, color='black')\n",
    "    ax.text(1300, 1800, \"Right hand\", size=16, color='black')\n",
    "    ax.text(600, 1500, \"Finger-to-key mapping for Participant\"+subject, size=16, color='black')\n",
    "    ax.text(600, 1600, \"Entropy = \"+str(entropyList[subject]), size=16, color='black')\n",
    "    plt.gca().invert_yaxis()\n",
    "\n",
    "    # Draw the two density plots\n",
    "    ax = sns.kdeplot(x1list, y1list,\n",
    "                     cmap=\"Reds\", shade=True, shade_lowest=False,alpha=0.7)\n",
    "    ax = sns.kdeplot(x2list, y2list,\n",
    "                     cmap=\"Blues\", shade=True, shade_lowest=False,alpha=0.7)\n",
    "    \n",
    "    \n",
    "    plt.imshow(lena, interpolation='nearest', aspect='equal') # 显示图片\n",
    "    plt.savefig(title+\".png\")\n",
    "    plt.show()"
   ]
  },
  {
   "cell_type": "code",
   "execution_count": 37,
   "metadata": {
    "collapsed": true
   },
   "outputs": [],
   "source": [
    "def drawHeatmap1(x1list,y1list,title):\n",
    "    import seaborn as sns\n",
    "    import matplotlib.pyplot as plt\n",
    "    import matplotlib.image as mpimg # mpimg 用于读取图片\n",
    "    import numpy as np\n",
    "    from PIL import Image\n",
    "\n",
    "\n",
    "    \n",
    "    lena = Image.open('back.png')\n",
    "    nplena=np.array(lena)\n",
    "\n",
    "    #sns.set(style=\"None\")\n",
    "    \n",
    "    # Set up the figure\n",
    "    f, ax = plt.subplots(figsize=(10,15))\n",
    "    plt.axis('off')\n",
    " \n",
    "    # Add labels to the plot\n",
    "    red = sns.color_palette(\"Reds\")[-2]\n",
    "    ax.text(1300, 1800, \"Right hand\", size=16, color=red)\n",
    "    plt.gca().invert_yaxis()\n",
    "    \n",
    "    # Draw the two density plots\n",
    "    ax = sns.kdeplot(x1list, y1list,\n",
    "                     cmap=\"Reds\", shade=True, shade_lowest=False)\n",
    "    \n",
    "    plt.imshow(lena, interpolation='nearest', aspect='equal') # 显示图片\n",
    "    plt.savefig(title+\".png\")\n",
    "    plt.show()"
   ]
  },
  {
   "cell_type": "code",
   "execution_count": 9,
   "metadata": {},
   "outputs": [
    {
     "name": "stdout",
     "output_type": "stream",
     "text": [
      "101\n",
      "104\n",
      "105\n",
      "106\n",
      "107\n",
      "108\n",
      "109\n",
      "110\n",
      "111\n",
      "112\n",
      "113\n",
      "114\n",
      "115\n",
      "116\n",
      "117\n",
      "118\n",
      "120\n",
      "121\n",
      "122\n",
      "123\n",
      "124\n",
      "125\n",
      "126\n",
      "127\n",
      "128\n",
      "129\n",
      "130\n",
      "131\n",
      "132\n"
     ]
    },
    {
     "ename": "KeyboardInterrupt",
     "evalue": "",
     "output_type": "error",
     "traceback": [
      "\u001b[1;31m---------------------------------------------------------------------------\u001b[0m",
      "\u001b[1;31mKeyboardInterrupt\u001b[0m                         Traceback (most recent call last)",
      "\u001b[1;32m<ipython-input-9-95a1136d9e9e>\u001b[0m in \u001b[0;36m<module>\u001b[1;34m()\u001b[0m\n\u001b[0;32m     26\u001b[0m                 \u001b[1;32mif\u001b[0m \u001b[0mx2\u001b[0m\u001b[1;33m!=\u001b[0m\u001b[1;34m''\u001b[0m \u001b[1;32mand\u001b[0m \u001b[0my2\u001b[0m\u001b[1;33m!=\u001b[0m\u001b[1;34m''\u001b[0m \u001b[1;32mand\u001b[0m \u001b[1;36m1840\u001b[0m\u001b[1;33m<\u001b[0m\u001b[0mfloat\u001b[0m\u001b[1;33m(\u001b[0m\u001b[0my2\u001b[0m\u001b[1;33m)\u001b[0m\u001b[1;33m<\u001b[0m\u001b[1;36m2760\u001b[0m \u001b[1;32mand\u001b[0m \u001b[1;36m498\u001b[0m\u001b[1;33m<\u001b[0m\u001b[0mfloat\u001b[0m\u001b[1;33m(\u001b[0m\u001b[0mx1\u001b[0m\u001b[1;33m)\u001b[0m\u001b[1;33m<\u001b[0m\u001b[1;36m1940\u001b[0m\u001b[1;33m:\u001b[0m\u001b[1;33m\u001b[0m\u001b[0m\n\u001b[0;32m     27\u001b[0m                     \u001b[0mfingerPosX2\u001b[0m\u001b[1;33m.\u001b[0m\u001b[0mappend\u001b[0m\u001b[1;33m(\u001b[0m\u001b[0mx2\u001b[0m\u001b[1;33m)\u001b[0m\u001b[1;33m\u001b[0m\u001b[0m\n\u001b[1;32m---> 28\u001b[1;33m                     \u001b[0mfingerPosY2\u001b[0m\u001b[1;33m.\u001b[0m\u001b[0mappend\u001b[0m\u001b[1;33m(\u001b[0m\u001b[0my2\u001b[0m\u001b[1;33m)\u001b[0m\u001b[1;33m\u001b[0m\u001b[0m\n\u001b[0m\u001b[0;32m     29\u001b[0m \u001b[1;33m\u001b[0m\u001b[0m\n\u001b[0;32m     30\u001b[0m     \u001b[1;31m#drawHeatmap2(Series(fingerPosX1),Series(fingerPosY1),Series(fingerPosX2),Series(fingerPosY2),'Heatmap for fingers '+subject+' - 2 Hand',subject)\u001b[0m\u001b[1;33m\u001b[0m\u001b[1;33m\u001b[0m\u001b[0m\n",
      "\u001b[1;31mKeyboardInterrupt\u001b[0m: "
     ]
    }
   ],
   "source": [
    "#main\n",
    "#双手画图程序\n",
    "block = '1'\n",
    "\n",
    "for subject in dictFin.keys():\n",
    "    fingerPosX1 = []\n",
    "    fingerPosY1 = []\n",
    "    fingerPosX2 = []\n",
    "    fingerPosY2 = []\n",
    "    print(subject)\n",
    "#for subject in ['101']:\n",
    "    for sentence in dictFin[subject][block].keys():\n",
    "        for index in range(len(dictFin[subject][block][sentence]['x1'])):\n",
    "            for i in range(len(dictFin[subject][block][sentence]['x1'][index])):\n",
    "                x1 = int(dictFin[subject][block][sentence]['x1'][index][i])\n",
    "                y1 = int(dictFin[subject][block][sentence]['y1'][index][i])\n",
    "                x2 = int(dictFin[subject][block][sentence]['x2'][index][i])\n",
    "                y2 = int(dictFin[subject][block][sentence]['y2'][index][i])\n",
    "                #只显示键盘上方200像素以下的finger数据点位置\n",
    "                #键盘4个角落的坐标\n",
    "                #(498,1840)(1940,1840)\n",
    "                #(498,2760)(1940,2760)\n",
    "                if x1!='' and y1!='' and 1840<float(y1)<2760 and 498<float(x1)<1940:\n",
    "                    fingerPosX1.append(x1)\n",
    "                    fingerPosY1.append(y1)\n",
    "                if x2!='' and y2!='' and 1840<float(y2)<2760 and 498<float(x1)<1940:\n",
    "                    fingerPosX2.append(x2)\n",
    "                    fingerPosY2.append(y2)\n",
    "\n",
    "    drawHeatmap2(Series(fingerPosX1),Series(fingerPosY1),Series(fingerPosX2),Series(fingerPosY2),'Heatmap for fingers '+subject+' - 2 Hand',subject)\n",
    "\n",
    "                "
   ]
  },
  {
   "cell_type": "code",
   "execution_count": 39,
   "metadata": {},
   "outputs": [
    {
     "data": {
      "image/png": "[encoded data removed]",
      "text/plain": [
       "<matplotlib.figure.Figure at 0x55785eb8>"
      ]
     },
     "metadata": {},
     "output_type": "display_data"
    }
   ],
   "source": [
    "#单手画图程序Test\n",
    "block = '2'\n",
    "fingerPosX1 = []\n",
    "fingerPosY1 = []\n",
    "fingerPosX2 = []\n",
    "fingerPosY2 = []\n",
    "#for subject in dictFin.keys():\n",
    "for subject in ['101']:\n",
    "    for sentence in dictFin[subject][block].keys():\n",
    "        for index in range(len(dictFin[subject][block][sentence]['x1'])):\n",
    "            for i in range(len(dictFin[subject][block][sentence]['x1'][index])):\n",
    "                x1 = int(dictFin[subject][block][sentence]['x1'][index][i])\n",
    "                y1 = int(dictFin[subject][block][sentence]['y1'][index][i])\n",
    "                #只显示背景图一半位置以下的finger数据点位置\n",
    "                if x1!='' and y1!='' and float(y1)>1480:\n",
    "                    fingerPosX1.append(x1)\n",
    "                    fingerPosY1.append(y1)\n",
    "\n",
    "\n",
    "drawHeatmap1(Series(fingerPosX1),Series(fingerPosY1),'Heatmap for fingers - 1 Hand')\n",
    "\n",
    "                "
   ]
  },
  {
   "cell_type": "code",
   "execution_count": null,
   "metadata": {
    "collapsed": true
   },
   "outputs": [],
   "source": []
  },
  {
   "cell_type": "code",
   "execution_count": 18,
   "metadata": {},
   "outputs": [
    {
     "ename": "ValueError",
     "evalue": "could not convert string to float: 'aspect'",
     "output_type": "error",
     "traceback": [
      "\u001b[1;31m---------------------------------------------------------------------------\u001b[0m",
      "\u001b[1;31mValueError\u001b[0m                                Traceback (most recent call last)",
      "\u001b[1;32m<ipython-input-18-079836e78564>\u001b[0m in \u001b[0;36m<module>\u001b[1;34m()\u001b[0m\n\u001b[0;32m      4\u001b[0m \u001b[0mx2\u001b[0m \u001b[1;33m=\u001b[0m \u001b[1;33m[\u001b[0m\u001b[1;36m500\u001b[0m\u001b[1;33m,\u001b[0m\u001b[1;36m600\u001b[0m\u001b[1;33m,\u001b[0m\u001b[1;36m700\u001b[0m\u001b[1;33m,\u001b[0m\u001b[1;36m500\u001b[0m\u001b[1;33m]\u001b[0m\u001b[1;33m\u001b[0m\u001b[0m\n\u001b[0;32m      5\u001b[0m \u001b[0my2\u001b[0m \u001b[1;33m=\u001b[0m \u001b[1;33m[\u001b[0m\u001b[1;36m200\u001b[0m\u001b[1;33m,\u001b[0m\u001b[1;36m300\u001b[0m\u001b[1;33m,\u001b[0m\u001b[1;36m900\u001b[0m\u001b[1;33m,\u001b[0m\u001b[1;36m800\u001b[0m\u001b[1;33m]\u001b[0m\u001b[1;33m\u001b[0m\u001b[0m\n\u001b[1;32m----> 6\u001b[1;33m \u001b[0mdrawHeatmap\u001b[0m\u001b[1;33m(\u001b[0m\u001b[0mSeries\u001b[0m\u001b[1;33m(\u001b[0m\u001b[0mx1\u001b[0m\u001b[1;33m)\u001b[0m\u001b[1;33m,\u001b[0m\u001b[0mSeries\u001b[0m\u001b[1;33m(\u001b[0m\u001b[0my1\u001b[0m\u001b[1;33m)\u001b[0m\u001b[1;33m,\u001b[0m\u001b[0mSeries\u001b[0m\u001b[1;33m(\u001b[0m\u001b[0mx2\u001b[0m\u001b[1;33m)\u001b[0m\u001b[1;33m,\u001b[0m\u001b[0mSeries\u001b[0m\u001b[1;33m(\u001b[0m\u001b[0my2\u001b[0m\u001b[1;33m)\u001b[0m\u001b[1;33m,\u001b[0m\u001b[1;34m'ttttttt'\u001b[0m\u001b[1;33m)\u001b[0m\u001b[1;33m\u001b[0m\u001b[0m\n\u001b[0m",
      "\u001b[1;32m<ipython-input-17-e48169ce90db>\u001b[0m in \u001b[0;36mdrawHeatmap\u001b[1;34m(x1list, y1list, x2list, y2list, title)\u001b[0m\n\u001b[0;32m     34\u001b[0m \u001b[1;33m\u001b[0m\u001b[0m\n\u001b[0;32m     35\u001b[0m \u001b[1;33m\u001b[0m\u001b[0m\n\u001b[1;32m---> 36\u001b[1;33m     \u001b[0mplt\u001b[0m\u001b[1;33m.\u001b[0m\u001b[0mimshow\u001b[0m\u001b[1;33m(\u001b[0m\u001b[0mlena\u001b[0m\u001b[1;33m,\u001b[0m \u001b[0minterpolation\u001b[0m\u001b[1;33m=\u001b[0m\u001b[1;34m'nearest'\u001b[0m\u001b[1;33m,\u001b[0m \u001b[0maspect\u001b[0m\u001b[1;33m=\u001b[0m\u001b[1;34m'aspect'\u001b[0m\u001b[1;33m)\u001b[0m \u001b[1;31m# 显示图片\u001b[0m\u001b[1;33m\u001b[0m\u001b[0m\n\u001b[0m\u001b[0;32m     37\u001b[0m     \u001b[0mplt\u001b[0m\u001b[1;33m.\u001b[0m\u001b[0msavefig\u001b[0m\u001b[1;33m(\u001b[0m\u001b[0mtitle\u001b[0m\u001b[1;33m+\u001b[0m\u001b[1;34m\".png\"\u001b[0m\u001b[1;33m)\u001b[0m\u001b[1;33m\u001b[0m\u001b[0m\n\u001b[0;32m     38\u001b[0m     \u001b[0mplt\u001b[0m\u001b[1;33m.\u001b[0m\u001b[0mshow\u001b[0m\u001b[1;33m(\u001b[0m\u001b[1;33m)\u001b[0m\u001b[1;33m\u001b[0m\u001b[0m\n",
      "\u001b[1;32mC:\\ProgramData\\Anaconda3\\lib\\site-packages\\matplotlib\\pyplot.py\u001b[0m in \u001b[0;36mimshow\u001b[1;34m(X, cmap, norm, aspect, interpolation, alpha, vmin, vmax, origin, extent, shape, filternorm, filterrad, imlim, resample, url, hold, data, **kwargs)\u001b[0m\n\u001b[0;32m   3078\u001b[0m                         \u001b[0mfilternorm\u001b[0m\u001b[1;33m=\u001b[0m\u001b[0mfilternorm\u001b[0m\u001b[1;33m,\u001b[0m \u001b[0mfilterrad\u001b[0m\u001b[1;33m=\u001b[0m\u001b[0mfilterrad\u001b[0m\u001b[1;33m,\u001b[0m\u001b[1;33m\u001b[0m\u001b[0m\n\u001b[0;32m   3079\u001b[0m                         \u001b[0mimlim\u001b[0m\u001b[1;33m=\u001b[0m\u001b[0mimlim\u001b[0m\u001b[1;33m,\u001b[0m \u001b[0mresample\u001b[0m\u001b[1;33m=\u001b[0m\u001b[0mresample\u001b[0m\u001b[1;33m,\u001b[0m \u001b[0murl\u001b[0m\u001b[1;33m=\u001b[0m\u001b[0murl\u001b[0m\u001b[1;33m,\u001b[0m \u001b[0mdata\u001b[0m\u001b[1;33m=\u001b[0m\u001b[0mdata\u001b[0m\u001b[1;33m,\u001b[0m\u001b[1;33m\u001b[0m\u001b[0m\n\u001b[1;32m-> 3080\u001b[1;33m                         **kwargs)\n\u001b[0m\u001b[0;32m   3081\u001b[0m     \u001b[1;32mfinally\u001b[0m\u001b[1;33m:\u001b[0m\u001b[1;33m\u001b[0m\u001b[0m\n\u001b[0;32m   3082\u001b[0m         \u001b[0max\u001b[0m\u001b[1;33m.\u001b[0m\u001b[0m_hold\u001b[0m \u001b[1;33m=\u001b[0m \u001b[0mwashold\u001b[0m\u001b[1;33m\u001b[0m\u001b[0m\n",
      "\u001b[1;32mC:\\ProgramData\\Anaconda3\\lib\\site-packages\\matplotlib\\__init__.py\u001b[0m in \u001b[0;36minner\u001b[1;34m(ax, *args, **kwargs)\u001b[0m\n\u001b[0;32m   1708\u001b[0m                     warnings.warn(msg % (label_namer, func.__name__),\n\u001b[0;32m   1709\u001b[0m                                   RuntimeWarning, stacklevel=2)\n\u001b[1;32m-> 1710\u001b[1;33m             \u001b[1;32mreturn\u001b[0m \u001b[0mfunc\u001b[0m\u001b[1;33m(\u001b[0m\u001b[0max\u001b[0m\u001b[1;33m,\u001b[0m \u001b[1;33m*\u001b[0m\u001b[0margs\u001b[0m\u001b[1;33m,\u001b[0m \u001b[1;33m**\u001b[0m\u001b[0mkwargs\u001b[0m\u001b[1;33m)\u001b[0m\u001b[1;33m\u001b[0m\u001b[0m\n\u001b[0m\u001b[0;32m   1711\u001b[0m         \u001b[0mpre_doc\u001b[0m \u001b[1;33m=\u001b[0m \u001b[0minner\u001b[0m\u001b[1;33m.\u001b[0m\u001b[0m__doc__\u001b[0m\u001b[1;33m\u001b[0m\u001b[0m\n\u001b[0;32m   1712\u001b[0m         \u001b[1;32mif\u001b[0m \u001b[0mpre_doc\u001b[0m \u001b[1;32mis\u001b[0m \u001b[1;32mNone\u001b[0m\u001b[1;33m:\u001b[0m\u001b[1;33m\u001b[0m\u001b[0m\n",
      "\u001b[1;32mC:\\ProgramData\\Anaconda3\\lib\\site-packages\\matplotlib\\axes\\_axes.py\u001b[0m in \u001b[0;36mimshow\u001b[1;34m(self, X, cmap, norm, aspect, interpolation, alpha, vmin, vmax, origin, extent, shape, filternorm, filterrad, imlim, resample, url, **kwargs)\u001b[0m\n\u001b[0;32m   5187\u001b[0m         \u001b[1;32mif\u001b[0m \u001b[0maspect\u001b[0m \u001b[1;32mis\u001b[0m \u001b[1;32mNone\u001b[0m\u001b[1;33m:\u001b[0m\u001b[1;33m\u001b[0m\u001b[0m\n\u001b[0;32m   5188\u001b[0m             \u001b[0maspect\u001b[0m \u001b[1;33m=\u001b[0m \u001b[0mrcParams\u001b[0m\u001b[1;33m[\u001b[0m\u001b[1;34m'image.aspect'\u001b[0m\u001b[1;33m]\u001b[0m\u001b[1;33m\u001b[0m\u001b[0m\n\u001b[1;32m-> 5189\u001b[1;33m         \u001b[0mself\u001b[0m\u001b[1;33m.\u001b[0m\u001b[0mset_aspect\u001b[0m\u001b[1;33m(\u001b[0m\u001b[0maspect\u001b[0m\u001b[1;33m)\u001b[0m\u001b[1;33m\u001b[0m\u001b[0m\n\u001b[0m\u001b[0;32m   5190\u001b[0m         im = mimage.AxesImage(self, cmap, norm, interpolation, origin, extent,\n\u001b[0;32m   5191\u001b[0m                               \u001b[0mfilternorm\u001b[0m\u001b[1;33m=\u001b[0m\u001b[0mfilternorm\u001b[0m\u001b[1;33m,\u001b[0m \u001b[0mfilterrad\u001b[0m\u001b[1;33m=\u001b[0m\u001b[0mfilterrad\u001b[0m\u001b[1;33m,\u001b[0m\u001b[1;33m\u001b[0m\u001b[0m\n",
      "\u001b[1;32mC:\\ProgramData\\Anaconda3\\lib\\site-packages\\matplotlib\\axes\\_base.py\u001b[0m in \u001b[0;36mset_aspect\u001b[1;34m(self, aspect, adjustable, anchor)\u001b[0m\n\u001b[0;32m   1271\u001b[0m             \u001b[0mself\u001b[0m\u001b[1;33m.\u001b[0m\u001b[0m_aspect\u001b[0m \u001b[1;33m=\u001b[0m \u001b[0maspect\u001b[0m\u001b[1;33m\u001b[0m\u001b[0m\n\u001b[0;32m   1272\u001b[0m         \u001b[1;32melse\u001b[0m\u001b[1;33m:\u001b[0m\u001b[1;33m\u001b[0m\u001b[0m\n\u001b[1;32m-> 1273\u001b[1;33m             \u001b[0mself\u001b[0m\u001b[1;33m.\u001b[0m\u001b[0m_aspect\u001b[0m \u001b[1;33m=\u001b[0m \u001b[0mfloat\u001b[0m\u001b[1;33m(\u001b[0m\u001b[0maspect\u001b[0m\u001b[1;33m)\u001b[0m  \u001b[1;31m# raise ValueError if necessary\u001b[0m\u001b[1;33m\u001b[0m\u001b[0m\n\u001b[0m\u001b[0;32m   1274\u001b[0m \u001b[1;33m\u001b[0m\u001b[0m\n\u001b[0;32m   1275\u001b[0m         \u001b[1;32mif\u001b[0m \u001b[0madjustable\u001b[0m \u001b[1;32mis\u001b[0m \u001b[1;32mnot\u001b[0m \u001b[1;32mNone\u001b[0m\u001b[1;33m:\u001b[0m\u001b[1;33m\u001b[0m\u001b[0m\n",
      "\u001b[1;31mValueError\u001b[0m: could not convert string to float: 'aspect'"
     ]
    }
   ],
   "source": [
    "#test 画图程序的小数据sample\n",
    "x1 = [300,400,500,600]\n",
    "y1 = [100,200,300,400]\n",
    "x2 = [500,600,700,500]\n",
    "y2 = [200,300,900,800]\n",
    "drawHeatmap(Series(x1),Series(y1),Series(x2),Series(y2),'ttttttt')"
   ]
  },
  {
   "cell_type": "code",
   "execution_count": 110,
   "metadata": {},
   "outputs": [
    {
     "name": "stdout",
     "output_type": "stream",
     "text": [
      "PNG\n",
      "(2140, 2960)\n"
     ]
    }
   ],
   "source": [
    "#背景图片尺寸\n",
    "import os\n",
    "from PIL import Image\n",
    "\n",
    "path = os.path.join(os.getcwd(),\"back.png\")\n",
    "img = Image.open(path)\n",
    "\n",
    "print (img.format)        # PNG\n",
    "print (img.size)          # (3500, 3500)"
   ]
  },
  {
   "cell_type": "code",
   "execution_count": null,
   "metadata": {
    "collapsed": true
   },
   "outputs": [],
   "source": []
  },
  {
   "cell_type": "code",
   "execution_count": 18,
   "metadata": {},
   "outputs": [
    {
     "data": {
      "image/png": "[encoded data removed]",
      "text/plain": [
       "<matplotlib.figure.Figure at 0xc1bfbe0>"
      ]
     },
     "metadata": {},
     "output_type": "display_data"
    }
   ],
   "source": [
    "#Sample code\n",
    "import seaborn as sns\n",
    "import matplotlib.pyplot as plt\n",
    "\n",
    "sns.set(style=\"darkgrid\")\n",
    "iris = sns.load_dataset(\"iris\")\n",
    "\n",
    "# Subset the iris dataset by species\n",
    "setosa = iris.query(\"species == 'setosa'\")\n",
    "virginica = iris.query(\"species == 'virginica'\")\n",
    "\n",
    "# Set up the figure\n",
    "f, ax = plt.subplots(figsize=(8, 8))\n",
    "ax.set_aspect(\"equal\")\n",
    "\n",
    "# Draw the two density plots\n",
    "ax = sns.kdeplot(setosa.sepal_width, setosa.sepal_length,\n",
    "                 cmap=\"Reds\", shade=True, shade_lowest=False)\n",
    "ax = sns.kdeplot(virginica.sepal_width, virginica.sepal_length,\n",
    "                 cmap=\"Blues\", shade=True, shade_lowest=False)\n",
    "\n",
    "# Add labels to the plot\n",
    "red = sns.color_palette(\"Reds\")[-2]\n",
    "blue = sns.color_palette(\"Blues\")[-2]\n",
    "ax.text(2.5, 8.2, \"virginica\", size=16, color=blue)\n",
    "ax.text(3.8, 4.5, \"setosa\", size=16, color=red)\n",
    "\n",
    "plt.show()"
   ]
  }
 ],
 "metadata": {
  "kernelspec": {
   "display_name": "Python 3",
   "language": "python",
   "name": "python3"
  },
  "language_info": {
   "codemirror_mode": {
    "name": "ipython",
    "version": 3
   },
   "file_extension": ".py",
   "mimetype": "text/x-python",
   "name": "python",
   "nbconvert_exporter": "python",
   "pygments_lexer": "ipython3",
   "version": "3.6.3"
  }
 },
 "nbformat": 4,
 "nbformat_minor": 2
}
